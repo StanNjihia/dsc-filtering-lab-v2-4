{
 "cells": [
  {
   "cell_type": "markdown",
   "metadata": {},
   "source": [
    "# Filtering Data with SQL - Lab"
   ]
  },
  {
   "cell_type": "markdown",
   "metadata": {},
   "source": [
    "## Introduction \n",
    "\n",
    "NASA wants to go to Mars! Before they build their rocket, NASA needs to track information about all of the planets in the Solar System. In this lab, you'll practice querying the database with various `SELECT` statements. This will include selecting different columns and implementing other SQL clauses like `WHERE` to return the data desired."
   ]
  },
  {
   "cell_type": "markdown",
   "metadata": {},
   "source": [
    "<img src=\"https://raw.githubusercontent.com/learn-co-curriculum/dsc-filtering-lab-v2-4/master/images/planets.png\" alt=\"image of solar system\" width=\"600\">"
   ]
  },
  {
   "cell_type": "markdown",
   "metadata": {},
   "source": [
    "## Objectives\n",
    "\n",
    "You will practice the following:\n",
    "\n",
    "* Retrieve a subset of records from a table using a `WHERE` clause\n",
    "* Filter results using conditional operators such as `BETWEEN`, `IS NULL`, and `LIKE`\n",
    "* Apply an aggregate function to the result of a filtered query"
   ]
  },
  {
   "cell_type": "markdown",
   "metadata": {},
   "source": [
    "## Connecting to the Database\n",
    "\n",
    "To get started, import `sqlite3` as well as `pandas` for conveniently displaying results. Then, connect to the SQLite database located at `planets.db`. "
   ]
  },
  {
   "cell_type": "code",
   "execution_count": 1,
   "metadata": {},
   "outputs": [],
   "source": [
    "import pandas as pd\n",
    "import sqlite3 "
   ]
  },
  {
   "cell_type": "markdown",
   "metadata": {},
   "source": [
    "## Database Schema\n",
    "\n",
    "This database contains a single table, `planets`. This is the schema:\n",
    "\n",
    "```\n",
    "CREATE TABLE planets (\n",
    "  id INTEGER PRIMARY KEY,\n",
    "  name TEXT,\n",
    "  color TEXT,\n",
    "  num_of_moons INTEGER,\n",
    "  mass REAL,\n",
    "  rings BOOLEAN\n",
    ");\n",
    "```\n",
    "\n",
    "The data looks something like this:\n",
    "\n",
    "| id | name    | color      | num_of_moons | mass   | rings |\n",
    "| -- | ------- | ---------- | ------------ | ------ | ----- |\n",
    "| 1  | Mercury | gray       | 0            | 0.55   | FALSE |\n",
    "| 2  | Venus   | yellow     | 0            | 0.82   | FALSE |\n",
    "| 3  | Earth   | blue       | 1            | 1.00   | FALSE |\n",
    "| 4  | Mars    | red        | 2            | 0.11   | FALSE |\n",
    "| 5  | Jupiter | orange     | 67           | 317.90 | FALSE |\n",
    "| 6  | Saturn  | hazel      | 62           | 95.19  | TRUE  |\n",
    "| 7  | Uranus  | light blue | 27           | 14.54  | TRUE  |\n",
    "| 8  | Neptune | dark blue  | 14           | 17.15  | TRUE  |"
   ]
  },
  {
   "cell_type": "markdown",
   "metadata": {},
   "source": [
    "## SQL Queries\n",
    "\n",
    "Write SQL queries for each of the statements below using the same pandas wrapping syntax from the previous lesson."
   ]
  },
  {
   "cell_type": "markdown",
   "metadata": {},
   "source": [
    "### 1. Select just the `name` and `color` of each planet"
   ]
  },
  {
   "cell_type": "code",
   "execution_count": 35,
   "metadata": {},
   "outputs": [
    {
     "name": "stdout",
     "output_type": "stream",
     "text": [
      "      name       color\n",
      "0  Mercury        gray\n",
      "1    Venus      yellow\n",
      "2    Earth        blue\n",
      "3     Mars         red\n",
      "4  Jupiter      orange\n",
      "5   Saturn       hazel\n",
      "6   Uranus  light blue\n",
      "7  Neptune   dark blue\n"
     ]
    }
   ],
   "source": [
    "conn = sqlite3.connect('planets.db')\n",
    "df = pd.read_sql(\"\"\"SELECT name, color FROM planets \"\"\", conn)\n",
    "print(df)"
   ]
  },
  {
   "cell_type": "markdown",
   "metadata": {},
   "source": [
    "### 2. Select all columns for each planet whose `num_of_moons` is 0"
   ]
  },
  {
   "cell_type": "code",
   "execution_count": 36,
   "metadata": {},
   "outputs": [
    {
     "name": "stdout",
     "output_type": "stream",
     "text": [
      "   id     name   color  num_of_moons  mass  rings\n",
      "0   1  Mercury    gray             0  0.55      0\n",
      "1   2    Venus  yellow             0  0.82      0\n"
     ]
    }
   ],
   "source": [
    "moons = pd.read_sql(\"\"\"SELECT * FROM planets WHERE num_of_moons = 0\"\"\", conn)\n",
    "print(moons)"
   ]
  },
  {
   "cell_type": "markdown",
   "metadata": {},
   "source": [
    "### 3. Select the `name` and `mass` of each planet whose `name` has exactly 7 letters"
   ]
  },
  {
   "cell_type": "code",
   "execution_count": 37,
   "metadata": {},
   "outputs": [
    {
     "name": "stdout",
     "output_type": "stream",
     "text": [
      "      name    mass\n",
      "0  Mercury    0.55\n",
      "1  Jupiter  317.90\n",
      "2  Neptune   17.15\n"
     ]
    }
   ],
   "source": [
    "seven_letters = pd.read_sql(\"\"\"SELECT name, mass FROM planets where length(name) = 7\"\"\", conn)\n",
    "print(seven_letters)"
   ]
  },
  {
   "cell_type": "markdown",
   "metadata": {},
   "source": [
    "### 4. Select all columns for each planet whose `mass` is greater than 1.00"
   ]
  },
  {
   "cell_type": "code",
   "execution_count": 38,
   "metadata": {},
   "outputs": [
    {
     "name": "stdout",
     "output_type": "stream",
     "text": [
      "   id     name       color  num_of_moons    mass  rings\n",
      "0   5  Jupiter      orange            68  317.90      0\n",
      "1   6   Saturn       hazel            62   95.19      1\n",
      "2   7   Uranus  light blue            27   14.54      1\n",
      "3   8  Neptune   dark blue            14   17.15      1\n"
     ]
    }
   ],
   "source": [
    "greater_mass = pd.read_sql(\"\"\"SELECT * FROM planets WHERE mass > 1.00\"\"\",conn)\n",
    "print(greater_mass)"
   ]
  },
  {
   "cell_type": "markdown",
   "metadata": {},
   "source": [
    "### 5. Select the `name` and `mass` of each planet whose `mass` is less than or equal to 1.00"
   ]
  },
  {
   "cell_type": "code",
   "execution_count": 39,
   "metadata": {},
   "outputs": [
    {
     "name": "stdout",
     "output_type": "stream",
     "text": [
      "      name  mass\n",
      "0  Mercury  0.55\n",
      "1    Venus  0.82\n",
      "2    Earth  1.00\n",
      "3     Mars  0.11\n"
     ]
    }
   ],
   "source": [
    "less_mass = pd.read_sql(\"\"\"SELECT name, mass FROM planets WHERE mass <= 1.00\"\"\", conn)\n",
    "print(less_mass)"
   ]
  },
  {
   "cell_type": "markdown",
   "metadata": {},
   "source": [
    "### 6. Select the `name` and `mass` of each planet whose `mass` is between 0 and 50"
   ]
  },
  {
   "cell_type": "code",
   "execution_count": 40,
   "metadata": {},
   "outputs": [
    {
     "name": "stdout",
     "output_type": "stream",
     "text": [
      "      name   mass\n",
      "0  Mercury   0.55\n",
      "1    Venus   0.82\n",
      "2    Earth   1.00\n",
      "3     Mars   0.11\n",
      "4   Uranus  14.54\n",
      "5  Neptune  17.15\n"
     ]
    }
   ],
   "source": [
    "between_mass = pd.read_sql(\"\"\"SELECT name, mass FROM planets WHERE mass >= 0 and mass <= 50\"\"\", conn)\n",
    "print(between_mass)"
   ]
  },
  {
   "cell_type": "markdown",
   "metadata": {},
   "source": [
    "### 7. Select all columns for planets that have at least one moon and a `mass` less than 1.00\n",
    "\n",
    "***Hint:*** You can use `AND` to chain together two conditions in SQL, similar to `and` in Python"
   ]
  },
  {
   "cell_type": "code",
   "execution_count": 41,
   "metadata": {},
   "outputs": [
    {
     "name": "stdout",
     "output_type": "stream",
     "text": [
      "   id     name   color  num_of_moons  mass  rings\n",
      "0   1  Mercury    gray             0  0.55      0\n",
      "1   2    Venus  yellow             0  0.82      0\n",
      "2   4     Mars     red             2  0.11      0\n"
     ]
    }
   ],
   "source": [
    "one_moon = pd.read_sql(\"\"\"SELECT * FROM planets WHere mass < 1.00\"\"\",conn)\n",
    "print(one_moon) "
   ]
  },
  {
   "cell_type": "markdown",
   "metadata": {},
   "source": [
    "### 8. Select the `name` and `color` of planets that have a `color` containing the string \"blue\""
   ]
  },
  {
   "cell_type": "code",
   "execution_count": 42,
   "metadata": {},
   "outputs": [
    {
     "name": "stdout",
     "output_type": "stream",
     "text": [
      "    name color\n",
      "0  Earth  blue\n"
     ]
    }
   ],
   "source": [
    "blue_color = pd.read_sql(\"\"\"SELECT name, color FROM planets WHERE color = 'blue'\"\"\",conn)\n",
    "print(blue_color)"
   ]
  },
  {
   "cell_type": "markdown",
   "metadata": {},
   "source": [
    "### 9. Select the count of planets that don't have rings as `planets_without_rings`\n",
    "\n",
    "Note: even though the schema states that `rings` is a `BOOLEAN` and the example table shows values `TRUE` and `FALSE`, SQLite does not actually support booleans natively. From the [documentation](https://www.sqlite.org/datatype3.html#boolean_datatype):\n",
    "\n",
    "> SQLite does not have a separate Boolean storage class. Instead, Boolean values are stored as integers 0 (false) and 1 (true)."
   ]
  },
  {
   "cell_type": "code",
   "execution_count": 43,
   "metadata": {},
   "outputs": [
    {
     "name": "stdout",
     "output_type": "stream",
     "text": [
      "   planets_without_rings\n",
      "0                      5\n"
     ]
    }
   ],
   "source": [
    "planet_rings=pd.read_sql(\"\"\"SELECT COUNT(*) AS planets_without_rings FROM planets WHERE rings = FALSE\"\"\",conn)\n",
    "print(planet_rings) "
   ]
  },
  {
   "cell_type": "markdown",
   "metadata": {},
   "source": [
    "### 10. Select the name of all planets, along with a value `has_rings` that returns \"Yes\" if the planet does have rings, and \"No\" if it does not"
   ]
  },
  {
   "cell_type": "code",
   "execution_count": 44,
   "metadata": {},
   "outputs": [
    {
     "name": "stdout",
     "output_type": "stream",
     "text": [
      "      name has_rings\n",
      "0  Mercury        No\n",
      "1    Venus        No\n",
      "2    Earth        No\n",
      "3     Mars        No\n",
      "4  Jupiter        No\n",
      "5   Saturn       Yes\n",
      "6   Uranus       Yes\n",
      "7  Neptune       Yes\n"
     ]
    }
   ],
   "source": [
    "planet_names_df = pd.read_sql(\"\"\"\n",
    "    SELECT\n",
    "        name,\n",
    "        CASE\n",
    "            WHEN rings = TRUE THEN 'Yes'\n",
    "            ELSE 'No'\n",
    "        END AS has_rings\n",
    "    FROM\n",
    "        planets\n",
    "\"\"\", conn)\n",
    "print(planet_names_df)\n"
   ]
  },
  {
   "cell_type": "markdown",
   "metadata": {},
   "source": [
    "## Summary"
   ]
  },
  {
   "cell_type": "markdown",
   "metadata": {},
   "source": [
    "Congratulations! NASA is one step closer to embarking upon its mission to Mars. In this lab, You practiced writing `SELECT` statements that query a single table to get specific information. You also used other clauses and specified column names to cherry-pick the data we wanted to retrieve. "
   ]
  }
 ],
 "metadata": {
  "kernelspec": {
   "display_name": "Data_Science_Moringa",
   "language": "python",
   "name": "python3"
  },
  "language_info": {
   "codemirror_mode": {
    "name": "ipython",
    "version": 3
   },
   "file_extension": ".py",
   "mimetype": "text/x-python",
   "name": "python",
   "nbconvert_exporter": "python",
   "pygments_lexer": "ipython3",
   "version": "3.11.11"
  },
  "toc": {
   "base_numbering": 1,
   "nav_menu": {},
   "number_sections": true,
   "sideBar": true,
   "skip_h1_title": false,
   "title_cell": "Table of Contents",
   "title_sidebar": "Contents",
   "toc_cell": false,
   "toc_position": {},
   "toc_section_display": true,
   "toc_window_display": false
  }
 },
 "nbformat": 4,
 "nbformat_minor": 2
}
